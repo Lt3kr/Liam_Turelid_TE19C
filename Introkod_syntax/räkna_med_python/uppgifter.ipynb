{
 "metadata": {
  "language_info": {
   "codemirror_mode": {
    "name": "ipython",
    "version": 3
   },
   "file_extension": ".py",
   "mimetype": "text/x-python",
   "name": "python",
   "nbconvert_exporter": "python",
   "pygments_lexer": "ipython3",
   "version": 3
  },
  "orig_nbformat": 2
 },
 "nbformat": 4,
 "nbformat_minor": 2,
 "cells": [
  {
   "cell_type": "code",
   "execution_count": null,
   "metadata": {},
   "outputs": [],
   "source": [
    "#uppgift nr.1\n",
    "\n",
    "print(\"hej\")"
   ]
  },
  {
   "cell_type": "code",
   "execution_count": null,
   "metadata": {},
   "outputs": [],
   "source": [
    "\n",
    "radie = 5\n",
    "pi=3.14\n",
    "\n",
    "omkrets = 2*radie*pi\n",
    "\n",
    "print(omkrets)"
   ]
  },
  {
   "cell_type": "code",
   "execution_count": null,
   "metadata": {},
   "outputs": [],
   "source": [
    "läsk = 15\n",
    "hamburgare = 29\n",
    "pommes = 12\n",
    "morot = 12\n",
    "\n",
    "print(läsk*2)"
   ]
  },
  {
   "cell_type": "code",
   "execution_count": null,
   "metadata": {},
   "outputs": [],
   "source": []
  }
 ]
}