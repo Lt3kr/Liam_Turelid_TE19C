{
 "metadata": {
  "language_info": {
   "codemirror_mode": {
    "name": "ipython",
    "version": 3
   },
   "file_extension": ".py",
   "mimetype": "text/x-python",
   "name": "python",
   "nbconvert_exporter": "python",
   "pygments_lexer": "ipython3",
   "version": "3.8.5-final"
  },
  "orig_nbformat": 2,
  "kernelspec": {
   "name": "python_defaultSpec_1599807879771",
   "display_name": "Python 3.8.5 32-bit"
  }
 },
 "nbformat": 4,
 "nbformat_minor": 2,
 "cells": [
  {
   "cell_type": "markdown",
   "metadata": {},
   "source": [
    "# jämt eller udda\n"
   ]
  },
  {
   "cell_type": "code",
   "execution_count": 9,
   "metadata": {
    "tags": []
   },
   "outputs": [
    {
     "output_type": "stream",
     "name": "stdout",
     "text": "1\ntalet är udda\n"
    }
   ],
   "source": [
    "tal = int(input(\"Ange ett heltal: \")) # typ omvandlar till heltal\n",
    "\n",
    "#modulooperator \n",
    "print(tal%2)\n",
    "\n",
    "# med % så kan man se räster vid ett tal tal%2 == 0 så är talet jämnt\n",
    "\n",
    "if tal%2 == 0:\n",
    "    print(\"talet är jämnt\")\n",
    "else:\n",
    "    print(\"talet är udda\")"
   ]
  },
  {
   "cell_type": "code",
   "execution_count": 12,
   "metadata": {
    "tags": []
   },
   "outputs": [
    {
     "output_type": "stream",
     "name": "stdout",
     "text": "Rät vinkel\n"
    }
   ],
   "source": [
    "vinkel = float(input(\"ange en vinkel i grader, där 0 <= v <= 360: \"))\n",
    "\n",
    "# 0 <= v < 90 spetsig\n",
    "# trubbig 90 < v < 180\n",
    "\n",
    "if vinkel >= 0 and vinkel < 90:\n",
    "    print(\"spetsig\")\n",
    "elif vinkel == 90:\n",
    "    print(\"Rät vinkel\")\n",
    "elif vinkel > 90 and vinkel < 180:\n",
    "    print(\"Trubbig vinkel\")\n",
    "else:\n",
    "    print(\"Vinkel ar inte spetsig, rät eller trubbig\")"
   ]
  },
  {
   "cell_type": "code",
   "execution_count": null,
   "metadata": {},
   "outputs": [],
   "source": []
  }
 ]
}